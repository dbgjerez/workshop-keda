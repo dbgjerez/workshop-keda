{
 "cells": [
  {
   "cell_type": "code",
   "execution_count": 4,
   "id": "a971bad9",
   "metadata": {},
   "outputs": [],
   "source": [
    "import cv2\n",
    "import pytesseract\n",
    "import re\n",
    "class Price:\n",
    "    def __init__(self, name, price):\n",
    "        self.name = name\n",
    "        self.price = price    "
   ]
  },
  {
   "cell_type": "code",
   "execution_count": 5,
   "id": "6edd1591",
   "metadata": {},
   "outputs": [
    {
     "name": "stdout",
     "output_type": "stream",
     "text": [
      "['eng', 'osd', 'spa']\n"
     ]
    }
   ],
   "source": [
    "print(pytesseract.get_languages())"
   ]
  },
  {
   "cell_type": "code",
   "execution_count": 23,
   "id": "3a094d5b",
   "metadata": {},
   "outputs": [
    {
     "name": "stdout",
     "output_type": "stream",
     "text": [
      "Image dimensions:\t2048x1152 in 3 channels\n"
     ]
    }
   ],
   "source": [
    "imgName=\"mercadona-03.jpeg\"\n",
    "img = cv2.imread(imgName)\n",
    "width, height, channels = img.shape\n",
    "aspr = float(width)/height\n",
    "print(\"Image dimensions:\\t{}x{} in {} channels\".format(\n",
    "        width, height, channels))"
   ]
  },
  {
   "cell_type": "code",
   "execution_count": 24,
   "id": "fc328aa7",
   "metadata": {},
   "outputs": [
    {
     "name": "stdout",
     "output_type": "stream",
     "text": [
      "blog\n",
      "desp!\n",
      "\n",
      "MERCADONA > S.A A ' '\n",
      "A-46103834 : retroceso insert inicio\n",
      "ROQUE VUMERCIAL ALAVERA, CTRA. A 8058\n",
      "\" KM.1\n",
      "220 SAN JUAN DE AZNALFARACHE\n",
      "TELÉFONO: 955409954\n",
      "0/2023 19:32 OP; 214503 + ]\n",
      "'A SIMPLIFICADA: 3923-020-140162\n",
      "\n",
      "DRA\n",
      "\n",
      "entrar\n",
      "\n",
      "Descripción P. Unit Imp\n",
      "| MINT BOOM 2,90\n",
      "4 BOLSA PLASTICO 0,15 6,60\n",
      "ROCAN CHOC VAINILLA 2,4\n",
      "ONTRAMUSLO DESHUESA 4,3\n",
      "1 ALBÓNDIGAS POLLO 0,30\n",
      "1 BURGER MEAT VACUNO 4,1\n",
      "AMÓN €) FL PACK 2\n",
      "¡ARDINA AHUMADA 2,0\n",
      "1 MINIBOMBON NOCCIOLA 7\n",
      "1 CEBOLLA CONG 11P ]\n",
      "AJOS TROCEADOS 1,00 21\n",
      "1 PATATAS CON PIEL 2,1\n",
      "| FIE SALMON SALVAJÍ 9,02\n",
      "2 LOMO CENTRO DE MERLU 3,85 1,1\n",
      "1 PIMIENTO CONGELADO 1,06\n",
      "1 GANBA/AJETE/TRIGUERO 2,70\n",
      "1 BÍFIDUS CREMOSO COCO 1,30\n",
      "1 +PROTEÍNAS LIMÓN 1,60\n",
      "2 QUESO FRESCO DESNATA + 1,01 2,02\n",
      "1 ARROZ DE SECRETO 3,15\n",
      "| CANELONES CARNE BOLE 4,00\n",
      "1 0. LONCHAS EDAM TIER 2,10\n",
      "1 O CURADO CORTADO 4,58 | EDT\n",
      "1 DESNATADO NATURAL X 1,10\n",
      "2 CHAPATA CRISTAL 1,20 2,40\n",
      "1 ROLLO' HOGAR DOBLE 2,35\n",
      "1 MOLLETE 3 UD 1,15\n",
      "1 PATATAS EXTRACRUNCH 1,50\n",
      "2 TORTILLAS MEXICANAS 1,30 2,60\n",
      "1 QUESO FRESCO 2,16\n",
      "1 5 BOCADILLOS 1,15\n",
      "1 MACARRON 042)\n",
      "| SPAGHETTI ' 1,24\n",
      "1 ENS.IV ESTACIONES 0,72\n",
      "4 TOMATE TRITURADO 0,70 2,80\n",
      "| QUESO UNTAR LIGHT 1,34\n",
      "a A E 1. ARROZ. BOMBA 4,50\n",
      "pet 1 ALBARICOQUE 2,80\n",
      "' 1 ZUMO NARANJA C/PULPA 1,20\n",
      "| 6 HUEVOS COCIDOS 1,60\n",
      "1 PAN S/CORT 1OOXINT 1,35\n",
      "1 MACEDONIA EN ZUMO UV 2,00\n",
      "1 TOALLITAS LIMPIAGAFA pl\n",
      "| PICO REVENTAO 1\n",
      "| HIGIENICO DOBLE ROLL 4,8\n",
      "\n",
      "1 FONDETAL 1,5L\n",
      "1 SUAVIZANTE NUTRIVE\n",
      "| CERY CRUZCAMPO LITRO\n",
      "\n",
      "¿3 1 SOJA NATURAL CAJA\n",
      "¿18 1 DET LI FRESCURA AZUL\n",
      "M8 | BANANA\n",
      "1,298 kg 1,45 €/kg\n",
      "| MANZANA STORY INORED\n",
      "0,832 kg 1,99 €/kg\n",
      "\n",
      "TOTAL (e) 140,24\n",
      "TARJETA BANCARIA 140,24\n",
      "\n",
      "YA BASE IMPONIBLE (€) CUOTA (€)\n",
      "Ox 30,15 0,00\n",
      "5% 2,36 0,12\n",
      "10% 15,37 1,54\n",
      "21% 20,41 4,29\n",
      "TOTAI 128,29 11,95\n",
      "\n",
      "TARJ, BANCARIA: A o ao OJO\n",
      "\n",
      "NC: 047197059 AUT: 13/89]\n",
      " A0000000041010 ARC: 3030\n",
      "1)\n",
      "MASTERCARD\n",
      "M7 140,24 € MASTERCARD\n",
      "\n",
      "N DEVOLUI UNES CON HLCKI |\n",
      "\n",
      "AMNMI IE\n",
      "\n",
      "A\n",
      "\n"
     ]
    }
   ],
   "source": [
    "\n",
    "img = cv2.cvtColor(img, cv2.COLOR_RGB2BGR)\n",
    "img = cv2.cvtColor(img, cv2.COLOR_BGR2GRAY)\n",
    "img = cv2.resize(img, None, fx=2, fy=2, interpolation=cv2.INTER_LINEAR)\n",
    "text = pytesseract.image_to_string(img, lang='spa', config='--psm 4 --oem 3')\n",
    "\n",
    "print(text)"
   ]
  },
  {
   "cell_type": "code",
   "execution_count": 39,
   "id": "97a9993f",
   "metadata": {
    "scrolled": true
   },
   "outputs": [
    {
     "name": "stdout",
     "output_type": "stream",
     "text": [
      "=========>  1 MINT BOOM 2,90\n",
      "Unidades:  1\n",
      "Artículo:   MINT BOOM \n",
      "Precio:  2,90\n",
      "=========>  4 BOLSA PLASTICO 0,15 0,60\n",
      "Unidades:  4\n",
      "Precio total:  0.6\n",
      "Precio unitario:  0.15\n",
      "Artículo:   BOLSA PLASTICO  \n",
      "=========>  1 ALBONDIGAS POLLO 0,0\n",
      "Unidades:  1\n",
      "Artículo:   ALBONDIGAS POLLO \n",
      "Precio:  0,0\n",
      "=========>  2 LOMO CENTRO DE MERLU 3,85 1,7\n",
      "Unidades:  2\n",
      "Precio total:  1.7\n",
      "Precio unitario:  0.85\n",
      "Artículo:   LOMO CENTRO DE MERLU  \n",
      "=========>  1 PIMIENTO CONGELADO 1,06\n",
      "Unidades:  1\n",
      "Artículo:   PIMIENTO CONGELADO \n",
      "Precio:  1,06\n",
      "=========>  1 ARROZ DE SECRETO 4,15\n",
      "Unidades:  1\n",
      "Artículo:   ARROZ DE SECRETO \n",
      "Precio:  4,15\n",
      "=========>  1 Q. LONCHAS EDAM TIER 2,10\n",
      "Unidades:  1\n",
      "Artículo:   Q. LONCHAS EDAM TIER \n",
      "Precio:  2,10\n",
      "=========>  1 Q CURADO CORTADO 4,58\n",
      "Unidades:  1\n",
      "Artículo:   Q CURADO CORTADO \n",
      "Precio:  4,58\n",
      "=========>  2 CHAPATA CRISTAL 1,20 2,40\n",
      "Unidades:  2\n",
      "Precio total:  2.4\n",
      "Precio unitario:  1.2\n",
      "Artículo:   CHAPATA CRISTAL  \n",
      "=========>  1 PATATAS EXTRACRUNCH 1,50\n",
      "Unidades:  1\n",
      "Artículo:   PATATAS EXTRACRUNCH \n",
      "Precio:  1,50\n",
      "=========>  2 TORTILLAS MEXICANAS 1,30 2,60\n",
      "Unidades:  2\n",
      "Precio total:  2.6\n",
      "Precio unitario:  1.3\n",
      "Artículo:   TORTILLAS MEXICANAS  \n",
      "=========>  1 QUESO FRESCO 2,16\n",
      "Unidades:  1\n",
      "Artículo:   QUESO FRESCO \n",
      "Precio:  2,16\n",
      "=========>  1 ENS. IV ESTACIONES 0,72\n",
      "Unidades:  1\n",
      "Artículo:   ENS. IV ESTACIONES \n",
      "Precio:  0,72\n",
      "=========>  4 TOMATE TRITURADO 0,70 2,80\n",
      "Unidades:  4\n",
      "Precio total:  2.8\n",
      "Precio unitario:  0.7\n",
      "Artículo:   TOMATE TRITURADO  \n",
      "=========>  1 MACEDONIA EN ZUMO UY 2,00\n",
      "Unidades:  1\n",
      "Artículo:   MACEDONIA EN ZUMO UY \n",
      "Precio:  2,00\n"
     ]
    }
   ],
   "source": [
    "# extract lines\n",
    "regex = \"^([0-9]+){1}(\\ [a-zA-Z]+[A-Za-z0-9\\ ,\\.]+\\ +){1}([0-9]*([,][0-9]*)+){1,2}\"\n",
    "lines = text.splitlines()\n",
    "total = 0.00\n",
    "for l in lines:\n",
    "    m = re.search(regex, l)\n",
    "    if m is not None:\n",
    "        line = m.group()\n",
    "        print(\"=========> \", line)\n",
    "        quantity = re.search(\"[0-9]*\", line).group()\n",
    "        print(\"Unidades: \", quantity)\n",
    "        line = line.replace(quantity, \"\", 1)\n",
    "        if int(quantity) > 1:\n",
    "            quantity = int(quantity)\n",
    "            split = re.split(\"([0-9]*,+[0-9]+)\", line)\n",
    "            price = split[len(split)-2]\n",
    "            line = line.replace(price, \"\")\n",
    "            price = float(price.replace(\",\",\".\"))\n",
    "            total += price\n",
    "            priceUnit = price/quantity\n",
    "            print(\"Precio total: \", price)\n",
    "            print(\"Precio unitario: \", priceUnit)\n",
    "            split = re.split(\"([0-9]*,+[0-9]+)\", line)\n",
    "            if len(split)>1:\n",
    "                price = split[len(split)-2]\n",
    "                line = line.replace(price, \"\")\n",
    "            print(\"Artículo: \", line)\n",
    "        else: \n",
    "            line.replace(\"/n\",\"\")\n",
    "            split = re.split(\"([0-9]*,+[0-9]+)\", line)\n",
    "            price = split[len(split)-2]\n",
    "            total += float(price.replace(\",\",\".\"))\n",
    "            print(\"Artículo: \", line.replace(price, \"\"))\n",
    "            print(\"Precio: \", price)\n"
   ]
  },
  {
   "cell_type": "code",
   "execution_count": 40,
   "id": "7699639c",
   "metadata": {
    "scrolled": true
   },
   "outputs": [
    {
     "name": "stdout",
     "output_type": "stream",
     "text": [
      "31.27 €\n",
      "22.3 %\n"
     ]
    }
   ],
   "source": [
    "print(round(total,2), \"€\")\n",
    "print(round((total*100)/140.24, 2), \"%\")"
   ]
  },
  {
   "cell_type": "code",
   "execution_count": null,
   "id": "1aac4b2b",
   "metadata": {},
   "outputs": [],
   "source": []
  }
 ],
 "metadata": {
  "kernelspec": {
   "display_name": "Python 3 (ipykernel)",
   "language": "python",
   "name": "python3"
  },
  "language_info": {
   "codemirror_mode": {
    "name": "ipython",
    "version": 3
   },
   "file_extension": ".py",
   "mimetype": "text/x-python",
   "name": "python",
   "nbconvert_exporter": "python",
   "pygments_lexer": "ipython3",
   "version": "3.11.3"
  }
 },
 "nbformat": 4,
 "nbformat_minor": 5
}
