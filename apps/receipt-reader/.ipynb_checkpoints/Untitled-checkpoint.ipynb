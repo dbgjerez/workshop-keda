{
 "cells": [
  {
   "cell_type": "code",
   "execution_count": 86,
   "id": "a971bad9",
   "metadata": {},
   "outputs": [],
   "source": [
    "import cv2\n",
    "import pytesseract\n",
    "import re\n",
    "class Price:\n",
    "    def __init__(self, name, price):\n",
    "        self.name = name\n",
    "        self.price = price    "
   ]
  },
  {
   "cell_type": "code",
   "execution_count": 87,
   "id": "6edd1591",
   "metadata": {},
   "outputs": [
    {
     "name": "stdout",
     "output_type": "stream",
     "text": [
      "['eng', 'spa']\n"
     ]
    }
   ],
   "source": [
    "print(pytesseract.get_languages())"
   ]
  },
  {
   "cell_type": "code",
   "execution_count": 94,
   "id": "fc328aa7",
   "metadata": {},
   "outputs": [
    {
     "name": "stdout",
     "output_type": "stream",
     "text": [
      "E LS\n",
      "\n",
      "CUA\n",
      "\n",
      "Precio Importe\n",
      "\n",
      "—— Descripción unidad (€)\n",
      "2 SOJA NATURAL 1,19 2,38\n",
      "\n",
      "1 PESCADO 5,00\n",
      "\n",
      "1 GRISSINI 1,65\n",
      "1 RIOJA CRIANZAT 5,60\n",
      "1 SALSA TRUFA 1,50\n",
      "1 LACÓN HORNO 1,99\n",
      "1 MEDIALUNA SETA 1,98\n",
      "1 CC ZERO ZERO 2 1,43\n",
      "1 RIOJA BLANCO 3,50\n",
      "1 CARPACCIO 2,99\n",
      "1 QUESO 1,9\n",
      "1 DUO CANON. RUCU 1540\n",
      "2 BOLSA GRANDE 0,10 0,20\n",
      "1 BOLLERTIA GRÁNE\n",
      "0,154 kg 7,50 €/kg 1,16\n",
      "TOTAL 32,68\n",
      "TARJETA. .BANCARIA 32,68\n",
      "DETALLE (€)\n",
      "IVA BASE IMPONIBLE CUOTA\n",
      "4% 3,17 0,13\n",
      "18,25 1,83\n",
      "7,69 1,61\n",
      "29,11 3,51\n",
      "\n",
      "aoRxB037\n",
      "\n"
     ]
    }
   ],
   "source": [
    "img = cv2.imread(\"mercadona-01.jpg\")\n",
    "\n",
    "img = cv2.cvtColor(img, cv2.COLOR_RGB2BGR)\n",
    "img = cv2.cvtColor(img, cv2.COLOR_BGR2GRAY)\n",
    "img = cv2.resize(img, None, fx=3, fy=3, interpolation=cv2.INTER_LINEAR)\n",
    "text = pytesseract.image_to_string(img, lang='spa', config='--psm 4 --oem 3')\n",
    "\n",
    "print(text)"
   ]
  },
  {
   "cell_type": "code",
   "execution_count": 95,
   "id": "97a9993f",
   "metadata": {
    "scrolled": true
   },
   "outputs": [
    {
     "name": "stdout",
     "output_type": "stream",
     "text": [
      "=========>  2 SOJA NATURAL 1,19 2,38\n",
      "Unidades:  2\n",
      "Precio total:  2.38\n",
      "Precio unitario:  1.19\n",
      "Artículo:   SOJA NATURAL  \n",
      "=========>  1 PESCADO 5,00\n",
      "Unidades:  1\n",
      "Artículo:   PESCADO \n",
      "Precio:  5,00\n",
      "=========>  1 GRISSINI 1,65\n",
      "Unidades:  1\n",
      "Artículo:   GRISSINI \n",
      "Precio:  1,65\n",
      "=========>  1 RIOJA CRIANZAT 5,60\n",
      "Unidades:  1\n",
      "Artículo:   RIOJA CRIANZAT \n",
      "Precio:  5,60\n",
      "=========>  1 SALSA TRUFA 1,50\n",
      "Unidades:  1\n",
      "Artículo:   SALSA TRUFA \n",
      "Precio:  1,50\n",
      "=========>  1 MEDIALUNA SETA 1,98\n",
      "Unidades:  1\n",
      "Artículo:   MEDIALUNA SETA \n",
      "Precio:  1,98\n",
      "=========>  1 CC ZERO ZERO 2 1,43\n",
      "Unidades:  1\n",
      "Artículo:   CC ZERO ZERO 2 \n",
      "Precio:  1,43\n",
      "=========>  1 RIOJA BLANCO 3,50\n",
      "Unidades:  1\n",
      "Artículo:   RIOJA BLANCO \n",
      "Precio:  3,50\n",
      "=========>  1 CARPACCIO 2,99\n",
      "Unidades:  1\n",
      "Artículo:   CARPACCIO \n",
      "Precio:  2,99\n",
      "=========>  1 QUESO 1,9\n",
      "Unidades:  1\n",
      "Artículo:   QUESO \n",
      "Precio:  1,9\n",
      "=========>  2 BOLSA GRANDE 0,10 0,20\n",
      "Unidades:  2\n",
      "Precio total:  0.2\n",
      "Precio unitario:  0.1\n",
      "Artículo:   BOLSA GRANDE  \n"
     ]
    }
   ],
   "source": [
    "# extract lines\n",
    "regex = \"^([0-9]+){1}(\\ [a-zA-Z]+[A-Za-z0-9\\ ,\\.]+\\ +){1}([0-9]*([,][0-9]*)+){1,2}\"\n",
    "lines = text.splitlines()\n",
    "total = 0.00\n",
    "for l in lines:\n",
    "    m = re.search(regex, l)\n",
    "    if m is not None:\n",
    "        line = m.group()\n",
    "        print(\"=========> \", line)\n",
    "        quantity = re.search(\"[0-9]*\", line).group()\n",
    "        print(\"Unidades: \", quantity)\n",
    "        line = line.replace(quantity, \"\", 1)\n",
    "        if int(quantity) > 1:\n",
    "            quantity = int(quantity)\n",
    "            split = re.split(\"([0-9]*,+[0-9]+)\", line)\n",
    "            price = split[len(split)-2]\n",
    "            line = line.replace(price, \"\")\n",
    "            price = float(price.replace(\",\",\".\"))\n",
    "            total += price\n",
    "            priceUnit = price/quantity\n",
    "            print(\"Precio total: \", price)\n",
    "            print(\"Precio unitario: \", priceUnit)\n",
    "            split = re.split(\"([0-9]*,+[0-9]+)\", line)\n",
    "            if len(split)>1:\n",
    "                price = split[len(split)-2]\n",
    "                line = line.replace(price, \"\")\n",
    "            print(\"Artículo: \", line)\n",
    "        else: \n",
    "            line.replace(\"/n\",\"\")\n",
    "            split = re.split(\"([0-9]*,+[0-9]+)\", line)\n",
    "            price = split[len(split)-2]\n",
    "            total += float(price.replace(\",\",\".\"))\n",
    "            print(\"Artículo: \", line.replace(price, \"\"))\n",
    "            print(\"Precio: \", price)\n"
   ]
  },
  {
   "cell_type": "code",
   "execution_count": 96,
   "id": "7699639c",
   "metadata": {
    "scrolled": true
   },
   "outputs": [
    {
     "name": "stdout",
     "output_type": "stream",
     "text": [
      "28.13 €\n",
      "86.08 %\n"
     ]
    }
   ],
   "source": [
    "print(round(total,2), \"€\")\n",
    "print(round((total*100)/32.68, 2), \"%\")"
   ]
  },
  {
   "cell_type": "code",
   "execution_count": null,
   "id": "e856e88c",
   "metadata": {},
   "outputs": [],
   "source": []
  }
 ],
 "metadata": {
  "kernelspec": {
   "display_name": "Python 3 (ipykernel)",
   "language": "python",
   "name": "python3"
  },
  "language_info": {
   "codemirror_mode": {
    "name": "ipython",
    "version": 3
   },
   "file_extension": ".py",
   "mimetype": "text/x-python",
   "name": "python",
   "nbconvert_exporter": "python",
   "pygments_lexer": "ipython3",
   "version": "3.11.3"
  }
 },
 "nbformat": 4,
 "nbformat_minor": 5
}
